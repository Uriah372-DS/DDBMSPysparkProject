{
 "cells": [
  {
   "cell_type": "code",
   "execution_count": 2,
   "outputs": [
    {
     "name": "stdout",
     "output_type": "stream",
     "text": [
      "Collecting scikit-multiflow\n",
      "  Downloading scikit-multiflow-0.5.3.tar.gz (450 kB)\n",
      "     ------------------------------------ 450.6/450.6 kB 741.3 kB/s eta 0:00:00\n",
      "  Preparing metadata (setup.py): started\n",
      "  Preparing metadata (setup.py): finished with status 'done'\n",
      "Collecting sortedcontainers>=1.5.7\n",
      "  Downloading sortedcontainers-2.4.0-py2.py3-none-any.whl (29 kB)\n",
      "Requirement already satisfied: numpy>=1.14.0 in c:\\users\\uriah\\onedrive\\desktop\\distributed information management\\project\\project part 2\\project_code_scripts\\.venv\\lib\\site-packages (from scikit-multiflow) (1.23.2)\n",
      "Collecting scipy>=1.0.0\n",
      "  Using cached scipy-1.9.0-cp310-cp310-win_amd64.whl (38.6 MB)\n",
      "Requirement already satisfied: matplotlib>=2.0.0 in c:\\users\\uriah\\onedrive\\desktop\\distributed information management\\project\\project part 2\\project_code_scripts\\.venv\\lib\\site-packages (from scikit-multiflow) (3.5.3)\n",
      "Collecting scikit-learn>=0.20\n",
      "  Using cached scikit_learn-1.1.2-cp310-cp310-win_amd64.whl (7.4 MB)\n",
      "Collecting pandas>=0.25.3\n",
      "  Using cached pandas-1.4.3-cp310-cp310-win_amd64.whl (10.5 MB)\n",
      "Requirement already satisfied: pillow>=6.2.0 in c:\\users\\uriah\\onedrive\\desktop\\distributed information management\\project\\project part 2\\project_code_scripts\\.venv\\lib\\site-packages (from matplotlib>=2.0.0->scikit-multiflow) (9.2.0)\n",
      "Requirement already satisfied: fonttools>=4.22.0 in c:\\users\\uriah\\onedrive\\desktop\\distributed information management\\project\\project part 2\\project_code_scripts\\.venv\\lib\\site-packages (from matplotlib>=2.0.0->scikit-multiflow) (4.35.0)\n",
      "Requirement already satisfied: pyparsing>=2.2.1 in c:\\users\\uriah\\onedrive\\desktop\\distributed information management\\project\\project part 2\\project_code_scripts\\.venv\\lib\\site-packages (from matplotlib>=2.0.0->scikit-multiflow) (3.0.9)\n",
      "Requirement already satisfied: python-dateutil>=2.7 in c:\\users\\uriah\\onedrive\\desktop\\distributed information management\\project\\project part 2\\project_code_scripts\\.venv\\lib\\site-packages (from matplotlib>=2.0.0->scikit-multiflow) (2.8.2)\n",
      "Requirement already satisfied: cycler>=0.10 in c:\\users\\uriah\\onedrive\\desktop\\distributed information management\\project\\project part 2\\project_code_scripts\\.venv\\lib\\site-packages (from matplotlib>=2.0.0->scikit-multiflow) (0.11.0)\n",
      "Requirement already satisfied: kiwisolver>=1.0.1 in c:\\users\\uriah\\onedrive\\desktop\\distributed information management\\project\\project part 2\\project_code_scripts\\.venv\\lib\\site-packages (from matplotlib>=2.0.0->scikit-multiflow) (1.4.4)\n",
      "Requirement already satisfied: packaging>=20.0 in c:\\users\\uriah\\onedrive\\desktop\\distributed information management\\project\\project part 2\\project_code_scripts\\.venv\\lib\\site-packages (from matplotlib>=2.0.0->scikit-multiflow) (21.3)\n",
      "Collecting pytz>=2020.1\n",
      "  Using cached pytz-2022.2.1-py2.py3-none-any.whl (500 kB)\n",
      "Collecting joblib>=1.0.0\n",
      "  Using cached joblib-1.1.0-py2.py3-none-any.whl (306 kB)\n",
      "Collecting threadpoolctl>=2.0.0\n",
      "  Using cached threadpoolctl-3.1.0-py3-none-any.whl (14 kB)\n",
      "Requirement already satisfied: six>=1.5 in c:\\users\\uriah\\onedrive\\desktop\\distributed information management\\project\\project part 2\\project_code_scripts\\.venv\\lib\\site-packages (from python-dateutil>=2.7->matplotlib>=2.0.0->scikit-multiflow) (1.16.0)\n",
      "Building wheels for collected packages: scikit-multiflow\n",
      "  Building wheel for scikit-multiflow (setup.py): started\n",
      "  Building wheel for scikit-multiflow (setup.py): finished with status 'done'\n",
      "  Created wheel for scikit-multiflow: filename=scikit_multiflow-0.5.3-cp310-cp310-win_amd64.whl size=536667 sha256=91d24b7eeec2ddfcb43f6e95c115c009a1ae7f9859bb89dd7fdac5e7b751a8cd\n",
      "  Stored in directory: c:\\users\\uriah\\appdata\\local\\pip\\cache\\wheels\\6e\\1b\\56\\45b17a6cf203d98000a45976cb0dd0c4c3f11960e6a505f231\n",
      "Successfully built scikit-multiflow\n",
      "Installing collected packages: sortedcontainers, pytz, threadpoolctl, scipy, joblib, scikit-learn, pandas, scikit-multiflow\n",
      "Successfully installed joblib-1.1.0 pandas-1.4.3 pytz-2022.2.1 scikit-learn-1.1.2 scikit-multiflow-0.5.3 scipy-1.9.0 sortedcontainers-2.4.0 threadpoolctl-3.1.0\n"
     ]
    }
   ],
   "source": [
    "!pip install scikit-multiflow"
   ],
   "metadata": {
    "collapsed": false,
    "pycharm": {
     "name": "#%%\n"
    }
   }
  },
  {
   "cell_type": "code",
   "execution_count": 1,
   "outputs": [],
   "source": [
    "# Required to correctly display interactive (dynamic) plots in Jupyter notebooks.\n",
    "# This code cell must be run before any other code cell.\n",
    "%matplotlib widget\n",
    "\n",
    "# Imports\n",
    "from skmultiflow.data import FileStream\n",
    "from skmultiflow.data import SEAGenerator\n",
    "from skmultiflow.evaluation import EvaluatePrequential\n",
    "from skmultiflow.bayes import NaiveBayes\n",
    "from skmultiflow.trees import HoeffdingTreeClassifier\n",
    "from skmultiflow.trees import HoeffdingAdaptiveTreeClassifier\n",
    "from skmultiflow.drift_detection import ADWIN\n",
    "\n",
    "from sklearn.linear_model import SGDClassifier\n",
    "\n",
    "import numpy as np\n",
    "import matplotlib.pyplot as plt\n",
    "from matplotlib import gridspec"
   ],
   "metadata": {
    "collapsed": false,
    "pycharm": {
     "name": "#%%\n"
    }
   }
  },
  {
   "cell_type": "markdown",
   "metadata": {
    "pycharm": {
     "name": "#%% md\n"
    }
   },
   "source": [
    "# scikit-multiflow demo\n",
    "In this notebook, we show how to easily setup and run experiments in scikit-multiflow.\n",
    "\n",
    "The demo is divided into the follwing parts:\n",
    "\n",
    "Running a classification task\n",
    "\n",
    "    1. Prequential evaluation implementation\n",
    "        A. The EvaluatePrequential class\n",
    "        B. Concept drift detection"
   ]
  },
  {
   "cell_type": "markdown",
   "metadata": {
    "pycharm": {
     "name": "#%% md\n"
    }
   },
   "source": [
    "# 1. Running a classification task\n",
    "In this example we will use the SEA stream generator. A data generator does not store any data, but generates it on demand.\n",
    "\n",
    "Next we will setup a learning method (model, estimator, algorithm), in this case the Naive Bayes classifier:"
   ]
  },
  {
   "cell_type": "code",
   "execution_count": null,
   "metadata": {
    "pycharm": {
     "name": "#%%\n"
    }
   },
   "outputs": [],
   "source": [
    "stream = SEAGenerator(random_state=1)\n",
    "classifier = NaiveBayes()"
   ]
  },
  {
   "cell_type": "markdown",
   "metadata": {
    "pycharm": {
     "name": "#%% md\n"
    }
   },
   "source": [
    "## Prequential evaluation\n",
    "The prequential evaluation is easily implemented as a loop:"
   ]
  },
  {
   "cell_type": "code",
   "execution_count": null,
   "metadata": {
    "pycharm": {
     "name": "#%%\n"
    }
   },
   "outputs": [],
   "source": [
    "# Variables to control evaluation loop and track performance\n",
    "n_samples = 0\n",
    "correct_cnt = 0\n",
    "max_samples = 2000\n",
    "\n",
    "# Prequential evaluation loop\n",
    "while n_samples < max_samples and stream.has_more_samples():\n",
    "   X, y = stream.next_sample()      # Get one sample from the stream\n",
    "   y_pred = classifier.predict(X)   # Predict class for new data\n",
    "   if y[0] == y_pred[0]:\n",
    "       correct_cnt += 1\n",
    "   classifier.partial_fit(X, y)     # Incrementally train the model with the new data\n",
    "   n_samples += 1\n",
    "\n",
    "print('{} samples analyzed.'.format(n_samples))   \n",
    "print('NaiveBayes classifier accuracy: {}'.format(correct_cnt / n_samples))"
   ]
  },
  {
   "cell_type": "markdown",
   "metadata": {
    "pycharm": {
     "name": "#%% md\n"
    }
   },
   "source": [
    "## EvaluatePrequential class\n",
    "Implements the prequential evaluation method and provides extra functionalities.\n",
    "\n",
    "Let's run the same experiment on the SEA data but this time we will compare two classifiers:\n",
    "\n",
    "    1. NaiveBayes\n",
    "    2. SGDClassifier: Linear SVM with SGD training.\n",
    "We choose the SGDClassifier in order to demonstrate the compatibility with incremental methods from scikit-learn.\n",
    "\n",
    "**Note:** scikit-learn focuses on the batch learing setting and only a limited number of its methods are capable to learn incrementally."
   ]
  },
  {
   "cell_type": "code",
   "execution_count": null,
   "metadata": {
    "pycharm": {
     "name": "#%%\n"
    }
   },
   "outputs": [],
   "source": [
    "# Setup stream and estimators\n",
    "stream = SEAGenerator(random_state=1)\n",
    "nb = NaiveBayes()\n",
    "svm = SGDClassifier()\n",
    "\n",
    "# Setup evaluator\n",
    "eval = EvaluatePrequential(show_plot=True,\n",
    "                           max_samples=20000,\n",
    "                           metrics=['accuracy', 'kappa', 'running_time', 'model_size'])"
   ]
  },
  {
   "cell_type": "code",
   "execution_count": null,
   "metadata": {
    "pycharm": {
     "name": "#%%\n"
    }
   },
   "outputs": [],
   "source": [
    "# Run the evaluation\n",
    "eval.evaluate(stream=stream, model=[nb, svm], model_names=['NB', 'SVM']);"
   ]
  },
  {
   "cell_type": "code",
   "execution_count": null,
   "metadata": {
    "pycharm": {
     "name": "#%%\n"
    }
   },
   "outputs": [],
   "source": [
    "import matplotlib.pyplot as plt\n",
    "import numpy as np\n",
    "\n",
    "plt.ion()\n",
    "for i in range(50):\n",
    "    y = np.random.random([10,1])\n",
    "    plt.plot(y)\n",
    "    plt.draw()\n",
    "    plt.pause(0.0001)\n",
    "    plt.clf()"
   ]
  },
  {
   "cell_type": "code",
   "execution_count": null,
   "metadata": {
    "pycharm": {
     "name": "#%%\n"
    }
   },
   "outputs": [],
   "source": [
    "x = np.linspace(0, 6*np.pi, 100)\n",
    "y = np.sin(x)\n",
    "\n",
    "# You probably won't need this if you're embedding things in a tkinter plot...\n",
    "plt.ion()\n",
    "\n",
    "fig = plt.figure()\n",
    "ax = fig.add_subplot(111)\n",
    "line1, = ax.plot(x, y, 'r-') # Returns a tuple of line objects, thus the comma\n",
    "\n",
    "for phase in np.linspace(0, 10*np.pi, 500):\n",
    "    line1.set_ydata(np.sin(x + phase))\n",
    "    fig.canvas.draw()\n",
    "    fig.canvas.flush_events()"
   ]
  },
  {
   "cell_type": "code",
   "execution_count": null,
   "metadata": {
    "pycharm": {
     "name": "#%%\n"
    }
   },
   "outputs": [],
   "source": []
  }
 ],
 "metadata": {
  "kernelspec": {
   "display_name": "Python 3.7.8 64-bit",
   "language": "python",
   "name": "python3"
  },
  "language_info": {
   "codemirror_mode": {
    "name": "ipython",
    "version": 3
   },
   "file_extension": ".py",
   "mimetype": "text/x-python",
   "name": "python",
   "nbconvert_exporter": "python",
   "pygments_lexer": "ipython3",
   "version": "3.7.8"
  },
  "orig_nbformat": 4,
  "vscode": {
   "interpreter": {
    "hash": "0a54084e6b208ee8d1ce3989ffc20924477a5f55f5a43e22e699a6741623861e"
   }
  }
 },
 "nbformat": 4,
 "nbformat_minor": 2
}